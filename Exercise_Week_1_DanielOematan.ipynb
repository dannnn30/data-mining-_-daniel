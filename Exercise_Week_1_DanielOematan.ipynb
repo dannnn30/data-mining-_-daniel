{
 "cells": [
  {
   "cell_type": "markdown",
   "metadata": {
    "id": "re8S5yd8u1eZ"
   },
   "source": [
    "<h2> Python Basics"
   ]
  },
  {
   "cell_type": "markdown",
   "metadata": {
    "id": "5H441cQou1ee"
   },
   "source": [
    "I. Cobalah print kalimat \"Hello, my name is ***nama anda***\" dengan minimal 2 cara: <br>\n",
    "a.   Print biasa (nama diletakkan langsung dalam string yang di print)<br>\n",
    "b.  Menggunakan variabel (nama disimpan dulu di variabel)<br>\n",
    "c.  Menggunakan operator dan variabel<br>\n",
    "d.  Menggunakan .format()"
   ]
  },
  {
   "cell_type": "code",
   "execution_count": null,
   "metadata": {
    "colab": {
     "base_uri": "https://localhost:8080/"
    },
    "id": "EJlHc6Ptu1ef",
    "outputId": "f486da89-de85-4004-decd-9cb30b6c04a6"
   },
   "outputs": [],
   "source": [
    "print(\"Hello, my name is daniel\");\n",
    "name = \"daniel\";\n",
    "print(\"Hello, my name is\", name);\n",
    "print(\"Hello, my name is \" + name);\n",
    "print(\"Hello, my name is {}\".format(name))"
   ]
  },
  {
   "cell_type": "markdown",
   "metadata": {
    "id": "ykD_f9Cfu1eg"
   },
   "source": [
    "II. Selesaikan soal cerita berikut menggunakan python:<br>\n",
    "a.  Jose membeli 4 kotak kelereng, tiap kotak berisi 15 buah kelereng. Kelereng itu akan dibagikan kepada 12 orang temannya, setiap teman akan mendapat ... kelereng.<br>\n",
    "b.  Hasil dari 8 pangkat 1/3 adalah ...<br>\n",
    "c.  Eillen memiliki uang sebesar Rp 50.000 untuk dibelanjakan kertas binder, 1 paket kertas binder isi 100 lembar dijual seharga 7500, jika ia ingin membeli berapa kertas binder yang dapat ia beli dengan uang yang ia punya? Berapa kembalian yang diterima?"
   ]
  },
  {
   "cell_type": "code",
   "execution_count": null,
   "metadata": {
    "id": "HZMGFAk6u1eg"
   },
   "outputs": [],
   "source": [
    "a = (4*15)/12\n",
    "print(\"a.\", a);\n",
    "b = 8**(1/3)\n",
    "print(\"b.\", b);\n",
    "c1 = int(50000/7500)\n",
    "c2 = c1*100\n",
    "c3 = 50000-(7500*c1)\n",
    "print(\"c. kertas binder yang dapat dibeli ella adalah\", c2 ,\", kembalian yang diterima ella adalah Rp.\",c3)"
   ]
  },
  {
   "cell_type": "markdown",
   "metadata": {
    "id": "ogSVphwKu1eh"
   },
   "source": [
    "III. Tunjukan cara untuk mengonversi tipe-tipe data berikut:\n",
    "\n",
    "1. \"1000\" -> 1000 (string ke int)\n",
    "2. 5.25 -> 5 (float ke int)\n",
    "3. 5 -> 5.0 (int ke float)\n",
    "4. 1000 -> \"1000\" (int ke string)\n",
    "\n",
    "Expected output:\n",
    "\n",
    "\n",
    "![image.png](data:image/png;base64,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)"
   ]
  },
  {
   "cell_type": "code",
   "execution_count": null,
   "metadata": {
    "colab": {
     "base_uri": "https://localhost:8080/"
    },
    "id": "1380euOQu1ei",
    "outputId": "ea0e27b8-a2fe-4f32-fe9c-af88a141e339"
   },
   "outputs": [],
   "source": [
    "a =\"1000\"\n",
    "a =int(a)\n",
    "print(\"a.\",a,\"<class 'int'>\")\n",
    "b =5.25\n",
    "b =int(b)\n",
    "print(\"b.\",b,\"<class 'int'>\")\n",
    "c =5\n",
    "c =float(c)\n",
    "print(\"c.\",c,\"<class 'float'>\")\n",
    "d =1000\n",
    "d =str(d)\n",
    "print(\"d.\",d,\"<class 'str'>\")"
   ]
  },
  {
   "cell_type": "markdown",
   "metadata": {
    "id": "DhXG-jySu1ej"
   },
   "source": [
    "IV. String\n",
    "\n",
    "\"If you want to know what a man's like, take a good look at how he treats his inferiors, not his equals.\"\n",
    "\n",
    "1. Tampilkan indeks ke 20 sampai 30 dari string di atas (indeks ke 30 ikut)\n",
    "2. Bagaimana cara memisah string berdasarkan spasi (simpan dalam list)\n",
    "3. Balik string di atas dengan menggunakan satu baris kode (menggunakan index)\n"
   ]
  },
  {
   "cell_type": "code",
   "execution_count": null,
   "metadata": {
    "colab": {
     "base_uri": "https://localhost:8080/"
    },
    "id": "kUE0OZhIu1ek",
    "outputId": "48d3d702-9eed-4439-add7-04d5406ce928"
   },
   "outputs": [],
   "source": [
    "kata =\"If you want to know what a man's like, take a good look at how he treats his inferiors, not his equals.\"\n",
    "a =kata[20:31]\n",
    "print(\"a.\",a)\n",
    "b =kata.split()\n",
    "print(\"b.\",b)\n",
    "c =kata[::-1]\n",
    "print(\"c.\",c)"
   ]
  },
  {
   "cell_type": "markdown",
   "metadata": {
    "id": "PFAMzNc6u1el"
   },
   "source": [
    "<h2> Python Data Strcutures"
   ]
  },
  {
   "cell_type": "markdown",
   "metadata": {
    "id": "m9AKxWKzu1el"
   },
   "source": [
    "I. Tuple\n",
    "\n",
    "\n",
    "1.   Buatlah sebuah tuple yang berisikan nama prodi di UC, simpan dalam variabel \"Prodi\".\n",
    "2.   Cetaklah panjang tuple yang dibuat.\n",
    "3.   Gunakan .index() untuk mengetahui posisi/index prodi ISB"
   ]
  },
  {
   "cell_type": "code",
   "execution_count": null,
   "metadata": {
    "id": "sA1w4YBcu1em"
   },
   "outputs": [],
   "source": [
    "prodi = (\"IBM\", \"IMT\", \"ACC\", \"ISB\", \"BMI\", \"HTB\", \"CB\")\n",
    "print(\"1.\", prodi)\n",
    "print(\"2.\", len(prodi))\n",
    "print(\"3.\",prodi.index(\"ISB\"))"
   ]
  },
  {
   "cell_type": "markdown",
   "metadata": {
    "id": "SiOS0ttQu1em"
   },
   "source": [
    "II. List\n",
    "\n",
    "\n",
    "1.   Buatlah sebuah list berisi 3 nama makanan kesukaanmu. Simpan dalam variabel \"favorit\".\n",
    "2.   Cetak nama setiap makanan dengan mengakses setiap elemen dalam list satu persatu.\n",
    "3. Kamu sedang berada di sebuah restoran dan hendak memesan salah satu menu yang ada dalam daftar favoritmu. Cetak setiap makanan dengan contoh: \"Aku ingin pesan {nama makanan}\"\n",
    "4.   Ternyata, salah satu menu tidak tersedia, jadi kamu perlu memesan makanan lain. Ganti makanan yang kosong dengan nama makanan baru (makanan yang mana bebas)"
   ]
  },
  {
   "cell_type": "code",
   "execution_count": null,
   "metadata": {
    "id": "9fuI3hJ7u1en"
   },
   "outputs": [],
   "source": [
    "print(\"1.\")\n",
    "favorit = [\"nasi\", \"mie\", \"jagung\"]\n",
    "print(favorit)\n",
    "print(\"2.\")\n",
    "print(favorit[0])\n",
    "print(favorit[1])\n",
    "print(favorit[2])\n",
    "print(\"3.\")\n",
    "for makanan in favorit:\n",
    "    print(\"Aku ingin pesan\",makanan)\n",
    "print(\"4.\")\n",
    "del favorit[2]\n",
    "print(favorit)\n",
    "favorit.insert(2, \"rusa\")\n",
    "print(favorit)"
   ]
  },
  {
   "cell_type": "markdown",
   "metadata": {
    "id": "YWl87pecu1en"
   },
   "source": [
    "III. Set\n",
    "\n",
    "1. Buatlah 4 buah set sebagai berikut\n",
    "\n",
    "\n",
    "    set1 = {1, 2, 3, 4}\n",
    "    set2 = {2, 4, 6, 8}\n",
    "    set3 = {5, 7}\n",
    "    set4 = {2, 3}\n",
    "2. Gabungkan set1 dan set2 dengan menghilangkan duplicates\n",
    "3. Buktikan set1 dan set3 tidak mempunyai intersection (output : Boolean)\n",
    "4. Buktikan set4 adalah bagian dari set1 (output : Boolean)"
   ]
  },
  {
   "cell_type": "code",
   "execution_count": null,
   "metadata": {
    "colab": {
     "base_uri": "https://localhost:8080/"
    },
    "id": "Qgx8YGSpu1en",
    "outputId": "2a1b2384-4d78-4702-a8f5-b7b6e3c31c3a"
   },
   "outputs": [],
   "source": [
    "set1 = {1, 2, 3, 4}\n",
    "set2 = {2, 4, 6, 8}\n",
    "set3 = {5, 7}\n",
    "set4 = {2, 3}\n",
    "a= set1|set2\n",
    "print(a)\n",
    "\n",
    "b=set2 & set3\n",
    "b=len(b) == 0\n",
    "print(b)\n",
    "\n",
    "c = set4 <= set1 \n",
    "print(c)"
   ]
  },
  {
   "cell_type": "markdown",
   "metadata": {
    "id": "uhpPy3xWu1en"
   },
   "source": [
    "<h2> Python Programming Fundamentals"
   ]
  },
  {
   "cell_type": "markdown",
   "metadata": {
    "id": "OEgpX5aYu1eo"
   },
   "source": [
    "I. Buatlah sebuah program sederhana yang meminta inputan dari user berupa jumlah penggunaan listrik dan menghasilkan output berupa tarif yang harus dibayar dengan syarat sebagai berikut:\n",
    "\n",
    "PLN menerapkan pembayaran listrik perumahan dengan perhitungan sebagai berikut:\n",
    "* untuk golongan 1 (penggunaan <1000 kWh) tarif : Rp1000/kWh\n",
    "* untuk golongan 2 (penggunaan >= 1000 kWh) tarif : Rp2000/kWh\n",
    "\n",
    "Dengan syarat perhitungan:\n",
    "\n",
    "Minimum pembayaran adalah 100 kWh sedangkan untuk pemakaian 1000 kWh dan seterusnya tarifnya ditambah 10% dari total pembayaran.\n",
    "\n",
    "(Jika total penggunaan <100 kWh, maka akan dikenakan tarif 100 kWh)"
   ]
  },
  {
   "cell_type": "code",
   "execution_count": null,
   "metadata": {
    "colab": {
     "base_uri": "https://localhost:8080/"
    },
    "id": "Q6vIyfIdu1eo",
    "outputId": "7bc6ab7a-842a-4693-85c3-07d44f9afec2"
   },
   "outputs": [],
   "source": [
    "# Meminta input dari pengguna\n",
    "penggunaan_kwh = float(input(\"Masukkan jumlah penggunaan listrik (kWh): \"))\n",
    "\n",
    "# Menentukan tarif dan total pembayaran\n",
    "if penggunaan_kwh < 100:\n",
    "    penggunaan_kwh = 100  # Minimum pembayaran adalah 100 kWh\n",
    "    tarif_per_kwh = 1000\n",
    "elif penggunaan_kwh < 1000:\n",
    "    tarif_per_kwh = 1000\n",
    "else:\n",
    "    tarif_per_kwh = 2000\n",
    "\n",
    "# Menghitung total pembayaran\n",
    "total_pembayaran = penggunaan_kwh * tarif_per_kwh\n",
    "\n",
    "# Jika penggunaan >= 1000 kWh, tambahkan 10% dari total pembayaran\n",
    "if penggunaan_kwh >= 1000:\n",
    "    total_pembayaran *= 1.1\n",
    "\n",
    "# Menampilkan hasil\n",
    "print(f\"Total pembayaran untuk {penggunaan_kwh} kWh adalah: Rp {total_pembayaran:.2f}\")"
   ]
  },
  {
   "cell_type": "markdown",
   "metadata": {
    "id": "Bqp7xI2Nu1eo"
   },
   "source": [
    "II. Untuk Abdimas Oweek UC digunakan angkot dengan kapasitas 10 orang per angkot. Apabila terjadi kelebihan penumpang (walau hanya 1 orang), angkot yang digunakan ditambah 1. Tulislah program untuk menghitung jumlah angkot yang diperlukan bila jumlah pesertanya menggunakan input().\n",
    "\n",
    "Catatan, pastikan jika angka yang dimasukkan negatif, muncul peringatan \"Jumlah orang tidak bisa negatif!\""
   ]
  },
  {
   "cell_type": "code",
   "execution_count": null,
   "metadata": {
    "colab": {
     "base_uri": "https://localhost:8080/"
    },
    "id": "C8thFHRbu1ep",
    "outputId": "25efe7c4-23c4-4a0f-bc45-4edf47c0581a"
   },
   "outputs": [],
   "source": [
    "# Meminta input dari pengguna\n",
    "jumlah_peserta = int(input(\"Masukkan jumlah peserta: \"))\n",
    "\n",
    "# Memeriksa apakah jumlah peserta negatif\n",
    "if jumlah_peserta < 0:\n",
    "    print(\"Jumlah orang tidak bisa negatif!\")\n",
    "else:\n",
    "    # Kapasitas angkot\n",
    "    kapasitas_angkot = 10\n",
    "\n",
    "    # Menghitung jumlah angkot yang diperlukan\n",
    "    if jumlah_peserta == 0:\n",
    "        jumlah_angkot = 0  # Tidak perlu angkot jika tidak ada peserta\n",
    "    else:\n",
    "        jumlah_angkot = (jumlah_peserta // kapasitas_angkot) + (1 if jumlah_peserta % kapasitas_angkot > 0 else 0)\n",
    "\n",
    "    # Menampilkan hasil\n",
    "    print(f\"Jumlah angkot yang diperlukan: {jumlah_angkot}\")"
   ]
  },
  {
   "cell_type": "markdown",
   "metadata": {
    "id": "zmpc0H2cu1ep"
   },
   "source": [
    "<h2> Numpy"
   ]
  },
  {
   "cell_type": "markdown",
   "metadata": {
    "id": "NH_6KTdZu1ep"
   },
   "source": [
    "1. Buatlah 1D numpy array berisi nama nama hari dalam satu minggu\n",
    "2. Gunakan sort untuk mengurutkan array sesuai abjad\n",
    "3. Gunakan rand untuk mengambil 1 hari dari array, cetakhlah dalam format: \"Selamat hari \\<nama hari\\> adalah hari baikmu bulan ini!\"\n",
    "4. Buatlah matriks 3x4 menggunakan numpy array berisi angka 1-6, lalu cetak shape dan dimensi array\n",
    "5. Cetaklah elemen kolom ketiga dari matrix\n",
    "\n",
    "    [[1 ,2, 3, 4],\n",
    "\n",
    "    [5, 6, 7, 8],\n",
    "\n",
    "    [9, 10, 11, 12]]\n",
    "6. Gunakan reshape untuk mengubah matrix di atas menjadi matriks berukuran (2, 6)"
   ]
  },
  {
   "cell_type": "code",
   "execution_count": null,
   "metadata": {
    "colab": {
     "base_uri": "https://localhost:8080/"
    },
    "id": "7u2L4rYWu1ep",
    "outputId": "7fa12946-61d8-494e-f019-f6434d1d2f9a"
   },
   "outputs": [],
   "source": [
    "# 1\n",
    "import numpy as np\n",
    "\n",
    "# 1. Membuat 1D numpy array berisi nama-nama hari dalam satu minggu\n",
    "hari = np.array([ \"Kamis\", \"Jumat\", \"Minggu\", \"Rabu\", \"Sabtu\", \"Selasa\", \"Senin\"])\n",
    "print(hari)"
   ]
  },
  {
   "cell_type": "code",
   "execution_count": null,
   "metadata": {
    "colab": {
     "base_uri": "https://localhost:8080/"
    },
    "id": "deanH7rbNQDz",
    "outputId": "3d98e624-6678-4eb0-fbcf-51960221056c"
   },
   "outputs": [],
   "source": [
    "# 2\n",
    "# Mengurutkan array sesuai abjad\n",
    "hari_sorted = np.sort(hari)\n",
    "print(hari_sorted)"
   ]
  },
  {
   "cell_type": "code",
   "execution_count": null,
   "metadata": {
    "colab": {
     "base_uri": "https://localhost:8080/"
    },
    "id": "095nERxqIv_n",
    "outputId": "c6cbe027-e472-4fa3-ea6c-414410f99236"
   },
   "outputs": [],
   "source": [
    "import random\n",
    "# 3\n",
    "# Mengambil 1 hari secara acak\n",
    "hari_acak = np.random.choice(hari_sorted)\n",
    "\n",
    "# Mencetak hasil\n",
    "print(f\"Selamat hari {hari_acak} adalah hari baikmu bulan ini!\")"
   ]
  },
  {
   "cell_type": "code",
   "execution_count": null,
   "metadata": {
    "colab": {
     "base_uri": "https://localhost:8080/"
    },
    "id": "XB0SW-W1OQ7e",
    "outputId": "195af244-9619-4b15-c43b-138ad7ff15aa"
   },
   "outputs": [],
   "source": [
    "# 4\n",
    "#  Membuat matriks 3x4 berisi angka 1-6\n",
    "matriks = np.array([[1, 2, 3, 4],\n",
    "                    [5, 6, 7, 8],\n",
    "                    [9, 10, 11, 12]])\n",
    "\n",
    "# Mencetak shape dan dimensi array\n",
    "print(\"Shape dari matriks:\", matriks.shape)\n",
    "print(\"Dimensi dari matriks:\", matriks.ndim)"
   ]
  },
  {
   "cell_type": "code",
   "execution_count": null,
   "metadata": {
    "colab": {
     "base_uri": "https://localhost:8080/"
    },
    "id": "vrwOkZl2Ped9",
    "outputId": "90cb3053-20ad-4252-d535-b7d68d5112d6"
   },
   "outputs": [],
   "source": [
    "# 5\n",
    "#  Mencetak elemen kolom ketiga dari matriks\n",
    "kolom_ketiga = matriks[:, 2]\n",
    "print(\"Elemen kolom ketiga:\", kolom_ketiga)"
   ]
  },
  {
   "cell_type": "code",
   "execution_count": null,
   "metadata": {
    "colab": {
     "base_uri": "https://localhost:8080/"
    },
    "id": "2GbdDNBWSdrd",
    "outputId": "15caccdb-21cd-40cf-e250-413861b025c1"
   },
   "outputs": [],
   "source": [
    "# 6\n",
    "#  Menggunakan reshape untuk mengubah matriks menjadi ukuran (2, 6)\n",
    "matriks_reshape = matriks.reshape(2, 6)\n",
    "print(\"Matriks setelah reshape (2, 6):\")\n",
    "print(matriks_reshape)"
   ]
  },
  {
   "cell_type": "markdown",
   "metadata": {
    "id": "IJ-xiFGCu1ep"
   },
   "source": [
    "<h2> Pandas"
   ]
  },
  {
   "cell_type": "markdown",
   "metadata": {
    "id": "W1GPuTsQu1eq"
   },
   "source": [
    "1. Buatlah Pandas Series dari list [\"Information\", \"Systems\", \"for\", \"Business\"]\n",
    "2. Buatlah Pandas Dataframe dari dictionary\n",
    "{ \"brand\": \"Ford\", \"model\": \"Mustang\", \"year\": 1964 }"
   ]
  },
  {
   "cell_type": "code",
   "execution_count": null,
   "metadata": {
    "colab": {
     "base_uri": "https://localhost:8080/",
     "height": 178
    },
    "id": "btISSDM7u1eq",
    "outputId": "1fc6f3c7-73cc-4c5e-9ee1-5062a48ff499"
   },
   "outputs": [],
   "source": [
    "# prompt: Pandas\n",
    "# Buatlah Pandas Series dari list [\"Information\", \"Systems\", \"for\", \"Business\"]\n",
    "# Buatlah Pandas Dataframe dari dictionary { \"brand\": \"Ford\", \"model\": \"Mustang\", \"year\": 1964 }\n",
    "\n",
    "import pandas as pd\n",
    "\n",
    "# 1. Membuat Pandas Series dari list\n",
    "my_list = [\"Information\", \"Systems\", \"for\", \"Business\"]\n",
    "my_series = pd.Series(my_list)\n",
    "print(\"Pandas Series:\")\n",
    "print(my_series)\n",
    "\n",
    "# 2. Membuat Pandas DataFrame dari dictionary\n",
    "my_dict = {\"brand\": \"Ford\", \"model\": \"Mustang\", \"year\": 1964}\n",
    "my_dataframe = pd.DataFrame([my_dict])\n",
    "print(\"\\nPandas DataFrame:\")\n",
    "(my_dataframe)"
   ]
  },
  {
   "cell_type": "markdown",
   "metadata": {
    "id": "K6iLqp69u1eq"
   },
   "source": [
    "3. Import dataset berikut kedalam dataframe.    \n",
    "dataset : https://raw.githubusercontent.com/michellechandraa/TutorDataMining/main/50_Startups.csv\n",
    "4. Tunjukan kota apa saja yang ada dalam dataset tersebut\n",
    "5. Buatlah dataset baru yang menyimpan 10 row random dari dataset. Kemudian tunjukanlah 5 row pertamanya.\n",
    "6. Gunakan df.info() untuk melihat informasi singkat dari dataframe\n",
    "7. Tampilkan data 'R&D Spend' dan 'Marketing Spend' dari data yang berasal dari kota 'California'\n",
    "8. Temukan apa ada missing value dari setiap kolom\n",
    "9. Drop data yang memiliki profit di bawah 50000\n",
    "10. Urutkan Dataframe berdasarkan biaya marketing mulai dari terbesar ke terkecil"
   ]
  },
  {
   "cell_type": "code",
   "execution_count": null,
   "metadata": {
    "colab": {
     "base_uri": "https://localhost:8080/",
     "height": 206
    },
    "id": "Zz-a6B-Au1er",
    "outputId": "b3ed8326-290e-4c50-8734-96c2aee1923a"
   },
   "outputs": [],
   "source": [
    "# 3\n",
    "import pandas as pd\n",
    "url = 'https://raw.githubusercontent.com/michellechandraa/TutorDataMining/main/50_Startups.csv'\n",
    "df = pd.read_csv(url)\n",
    "(df)"
   ]
  },
  {
   "cell_type": "code",
   "execution_count": null,
   "metadata": {
    "colab": {
     "base_uri": "https://localhost:8080/"
    },
    "id": "8hsqamWrCimw",
    "outputId": "23353b2a-dc0a-4f7d-ba86-10116a3f46ee"
   },
   "outputs": [],
   "source": [
    "# 4\n",
    "unique_cities = df['State'].unique()\n",
    "print(\"Kota-kota yang ada dalam dataset:\", unique_cities)"
   ]
  },
  {
   "cell_type": "markdown",
   "metadata": {
    "id": "C4dYyX1Xoo1D"
   },
   "source": []
  },
  {
   "cell_type": "code",
   "execution_count": null,
   "metadata": {
    "id": "xCcT75YOCmX3"
   },
   "outputs": [],
   "source": [
    "# 5\n",
    "random_sample_df = df.sample(n=10, random_state=42)\n",
    "print(\"\\n5 row pertama dari dataset random:\")\n",
    "(random_sample_df.head())"
   ]
  },
  {
   "cell_type": "code",
   "execution_count": null,
   "metadata": {
    "colab": {
     "base_uri": "https://localhost:8080/"
    },
    "id": "kgHgGEVoCqGR",
    "outputId": "03ef0a1d-14b5-4342-d034-c16fc4330bb4"
   },
   "outputs": [],
   "source": [
    "# 6\n",
    "print(\"\\nInformasi DataFrame:\")\n",
    "(df.info())"
   ]
  },
  {
   "cell_type": "code",
   "execution_count": null,
   "metadata": {
    "colab": {
     "base_uri": "https://localhost:8080/",
     "height": 582
    },
    "id": "Mc3zul5PA2TD",
    "outputId": "180df260-6caf-42a2-f82e-a21f89263219"
   },
   "outputs": [],
   "source": [
    "# 7\n",
    "california_data = df[df['State'] == 'California'][['R&D Spend', 'Marketing Spend']]\n",
    "print(\"\\nR&D Spend dan Marketing Spend dari kota California:\")\n",
    "(california_data)"
   ]
  },
  {
   "cell_type": "code",
   "execution_count": null,
   "metadata": {
    "colab": {
     "base_uri": "https://localhost:8080/"
    },
    "id": "M1SY-gGACRy0",
    "outputId": "11db8158-14ee-484e-fd1b-93e8dcba7826"
   },
   "outputs": [],
   "source": [
    "# 8\n",
    "missing_values = df.isnull().sum()\n",
    "print(\"\\nMissing value di setiap kolom:\")\n",
    "(missing_values)"
   ]
  },
  {
   "cell_type": "code",
   "execution_count": null,
   "metadata": {
    "id": "XS3SV8--CeLJ"
   },
   "outputs": [],
   "source": [
    "# 9\n",
    "df_filtered = df[df['Profit'] >= 50000]\n",
    "print(\"\\nDataFrame setelah menghapus profit di bawah 50000:\")\n",
    "(df_filtered)"
   ]
  },
  {
   "cell_type": "code",
   "execution_count": null,
   "metadata": {
    "colab": {
     "base_uri": "https://localhost:8080/",
     "height": 206
    },
    "id": "mbt-zuboEm3A",
    "outputId": "fee8ae28-6e5c-4dfe-efeb-e0bdb4117d1d"
   },
   "outputs": [],
   "source": [
    "# 10\n",
    "df_sorted = df_filtered.sort_values(by='Marketing Spend', ascending=False)\n",
    "\n",
    "print(\"\\nDataFrame setelah menghapus profit di bawah 50000 dan diurutkan berdasarkan Marketing Spend:\")\n",
    "(df_sorted)"
   ]
  },
  {
   "cell_type": "markdown",
   "metadata": {
    "id": "4OfOaA0xu1er"
   },
   "source": [
    "<h2> Data Cleaning"
   ]
  },
  {
   "cell_type": "markdown",
   "metadata": {
    "id": "Krb_r6quu1es"
   },
   "source": [
    "1. Import dataset berikut ke dalam dataframe.   \n",
    "   dataset : https://raw.githubusercontent.com/michellechandraa/TutorDataMining/main/real_estate.csv\n",
    "2. Tampilkan 10 data random dari dataset di atas\n",
    "3. Cari informasi data dengan menggunakan fungsi describe\n",
    "4. Hapus kolom 'No' dan ubahlah nama kolom dalam dataframe menjadi 'transaction date', 'house age', 'distance to the nearest MRT station', 'number of convinience stores', 'latitude', 'longitude', 'house price of unit area'\n",
    "5. Cek apakah ada missing values dari masing-masing kolom"
   ]
  },
  {
   "cell_type": "code",
   "execution_count": null,
   "metadata": {
    "colab": {
     "base_uri": "https://localhost:8080/",
     "height": 224
    },
    "id": "NAl8hGLHu1es",
    "outputId": "a7652a6c-aca9-496b-d8df-3f41895c9895"
   },
   "outputs": [],
   "source": [
    "# 1\n",
    "import pandas as pd\n",
    "\n",
    "# 1. Mengimpor dataset ke dalam DataFrame\n",
    "url = \"https://raw.githubusercontent.com/michellechandraa/TutorDataMining/main/real_estate.csv\"\n",
    "df = pd.read_csv(url)\n",
    "(df)"
   ]
  },
  {
   "cell_type": "code",
   "execution_count": null,
   "metadata": {
    "colab": {
     "base_uri": "https://localhost:8080/",
     "height": 380
    },
    "id": "YWjZAHGdFXhK",
    "outputId": "fd7cfc89-99b2-49aa-e0ff-f3ada9e4b161"
   },
   "outputs": [],
   "source": [
    "# 2\n",
    "random_data = df.sample(n=10, random_state=42)\n",
    "print(\"10 Data random dari dataset:\")\n",
    "(random_data)"
   ]
  },
  {
   "cell_type": "code",
   "execution_count": null,
   "metadata": {
    "colab": {
     "base_uri": "https://localhost:8080/",
     "height": 318
    },
    "id": "WYXICVmkFgAo",
    "outputId": "865a4c7c-da4f-4e1d-d2fd-cc131df30e8d"
   },
   "outputs": [],
   "source": [
    "# 3\n",
    "print(\"\\nInformasi deskriptif dari dataset:\")\n",
    "(df.describe())"
   ]
  },
  {
   "cell_type": "code",
   "execution_count": null,
   "metadata": {
    "colab": {
     "base_uri": "https://localhost:8080/",
     "height": 206
    },
    "id": "v1scoJ2bFraH",
    "outputId": "d2e4f8d1-bb95-4ad3-9d25-afd119922c2c"
   },
   "outputs": [],
   "source": [
    "# 4\n",
    "df = df.drop(columns=['No'])\n",
    "df.columns = [\n",
    "    'transaction date',\n",
    "    'house age',\n",
    "    'distance to the nearest MRT station',\n",
    "    'number of convenience stores',\n",
    "    'latitude',\n",
    "    'longitude',\n",
    "    'house price of unit area']\n",
    "\n",
    "df.head()"
   ]
  },
  {
   "cell_type": "code",
   "execution_count": null,
   "metadata": {
    "colab": {
     "base_uri": "https://localhost:8080/",
     "height": 304
    },
    "id": "O_EVut8-GE7b",
    "outputId": "b64aac05-96e3-423d-ac17-a06bb9316fe0"
   },
   "outputs": [],
   "source": [
    "# 5\n",
    "missing_values = df.isnull().sum()\n",
    "print(\"\\nMissing values di setiap kolom:\")\n",
    "\n",
    "(missing_values)"
   ]
  },
  {
   "cell_type": "markdown",
   "metadata": {
    "id": "0USQVpcWuJTz"
   },
   "source": [
    "## **Goodluck :)**\n"
   ]
  }
 ],
 "metadata": {
  "colab": {
   "provenance": []
  },
  "kernelspec": {
   "display_name": "Python 3 (ipykernel)",
   "language": "python",
   "name": "python3"
  },
  "language_info": {
   "codemirror_mode": {
    "name": "ipython",
    "version": 3
   },
   "file_extension": ".py",
   "mimetype": "text/x-python",
   "name": "python",
   "nbconvert_exporter": "python",
   "pygments_lexer": "ipython3",
   "version": "3.11.4"
  }
 },
 "nbformat": 4,
 "nbformat_minor": 1
}
