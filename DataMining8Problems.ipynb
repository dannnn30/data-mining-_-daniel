{
  "nbformat": 4,
  "nbformat_minor": 0,
  "metadata": {
    "colab": {
      "provenance": [],
      "authorship_tag": "ABX9TyOFZjfFfW7lZcs/xjKTAsd/",
      "include_colab_link": true
    },
    "kernelspec": {
      "name": "python3",
      "display_name": "Python 3"
    },
    "language_info": {
      "name": "python"
    }
  },
  "cells": [
    {
      "cell_type": "markdown",
      "metadata": {
        "id": "view-in-github",
        "colab_type": "text"
      },
      "source": [
        "<a href=\"https://colab.research.google.com/github/dannnn30/data-mining-_-daniel/blob/main/DataMining8Problems.ipynb\" target=\"_parent\"><img src=\"https://colab.research.google.com/assets/colab-badge.svg\" alt=\"Open In Colab\"/></a>"
      ]
    },
    {
      "cell_type": "code",
      "execution_count": null,
      "metadata": {
        "colab": {
          "base_uri": "https://localhost:8080/"
        },
        "id": "7EFlKyN6MxmW",
        "outputId": "7625fd82-4baa-45fa-a59b-78605829aa7e"
      },
      "outputs": [
        {
          "output_type": "stream",
          "name": "stdout",
          "text": [
            "masukan bilangan 5\n",
            "faktorial dari 5 adalah 120\n"
          ]
        }
      ],
      "source": [
        "def fact(n):\n",
        "  if n==0:\n",
        "    return 1\n",
        "  else:\n",
        "    return n*fact(n-1)\n",
        "\n",
        "n = input(\"masukan bilangan \")\n",
        "n = int(n)\n",
        "\n",
        "while n>=0:\n",
        "  h= fact(n)\n",
        "  print(f\"faktorial dari {n} adalah {h}\")\n",
        "\n",
        "  n=n-n-1"
      ]
    },
    {
      "cell_type": "code",
      "source": [
        "def fibo(n):\n",
        "  if n==1:\n",
        "    return 0\n",
        "  elif n==2:\n",
        "    return 1\n",
        "  else:\n",
        "    return fibo(n-2)+fibo(n-1)\n",
        "\n",
        "n = int(input(\"masukan bilangan: \"))\n",
        "while n>=0:\n",
        "  h= fibo(n)\n",
        "  print(f\"bilangan fibonaci dari {n} adalah {h}\")\n",
        "\n",
        "  n=n-n-1"
      ],
      "metadata": {
        "colab": {
          "base_uri": "https://localhost:8080/"
        },
        "id": "oCYrwmu3UGSf",
        "outputId": "52571bc5-77e2-4459-eefa-7f702078c7cb"
      },
      "execution_count": null,
      "outputs": [
        {
          "output_type": "stream",
          "name": "stdout",
          "text": [
            "masukan bilangan: 9\n",
            "bilangan fibonaci dari 9 adalah 21\n"
          ]
        }
      ]
    },
    {
      "cell_type": "code",
      "source": [
        "def cek_prima(n, i=2):\n",
        "    if n < 2:\n",
        "        return False\n",
        "    if i > int(n**0.5):\n",
        "        return True\n",
        "    if n % i == 0:\n",
        "        return False\n",
        "    return cek_prima(n, i + 1)\n",
        "\n",
        "n = int(input(\"masukan bilangan: \"))\n",
        "while n>=0:\n",
        "  h= cek_prima(n)\n",
        "  if h==False:\n",
        "    print(f\"{n} bukan bilangan prima\")\n",
        "  else :\n",
        "    print(f\"{n} adalah bilangan prima\")\n",
        "  n=n-n-1"
      ],
      "metadata": {
        "colab": {
          "base_uri": "https://localhost:8080/"
        },
        "id": "XzVYNSRTQgFg",
        "outputId": "224ad7e4-199e-4b86-d3c0-f672ce92edd6"
      },
      "execution_count": 8,
      "outputs": [
        {
          "output_type": "stream",
          "name": "stdout",
          "text": [
            "masukan bilangan: 8\n",
            "8 bukan bilangan prima\n"
          ]
        }
      ]
    },
    {
      "cell_type": "code",
      "source": [
        "def cari_bilangan_prima(batas, angka=2, bilangan_prima=None):\n",
        "    if bilangan_prima is None:\n",
        "        bilangan_prima = []\n",
        "    if angka > batas:\n",
        "        return bilangan_prima\n",
        "    if cek_prima(angka):\n",
        "        bilangan_prima.append(angka)\n",
        "    return cari_bilangan_prima(batas, angka + 1, bilangan_prima)\n",
        "\n",
        "\n",
        "batas = int(input(\"Masukkan batas atas untuk mencari bilangan prima: \"))\n",
        "hasil = cari_bilangan_prima(batas)\n",
        "print(f\"Bilangan prima hingga {batas}: {hasil}\")"
      ],
      "metadata": {
        "colab": {
          "base_uri": "https://localhost:8080/"
        },
        "id": "BxCaHmqkRGpQ",
        "outputId": "2c2b3ad1-cb5d-4fc0-dc88-c79ef0c66c4d"
      },
      "execution_count": 3,
      "outputs": [
        {
          "output_type": "stream",
          "name": "stdout",
          "text": [
            "Masukkan batas atas untuk mencari bilangan prima: 5\n",
            "Bilangan prima hingga 5: [2, 3, 5]\n"
          ]
        }
      ]
    },
    {
      "cell_type": "code",
      "source": [
        "def balik_string(s):\n",
        "    if len(s) == 0:\n",
        "        return s\n",
        "    else:\n",
        "        return s[-1] + balik_string(s[:-1])\n",
        "\n",
        "input_string = input(\"Masukkan string yang akan dibalik: \")\n",
        "hasil = balik_string(input_string)\n",
        "\n",
        "print(f\"Hasil pembalikan dari '{input_string}' adalah '{hasil}'\")\n"
      ],
      "metadata": {
        "colab": {
          "base_uri": "https://localhost:8080/"
        },
        "id": "wlMK4aKfTPqD",
        "outputId": "18e6fefe-c8c9-4db9-bf62-8552a78dafb9"
      },
      "execution_count": 10,
      "outputs": [
        {
          "output_type": "stream",
          "name": "stdout",
          "text": [
            "Masukkan string yang akan dibalik: saya\n",
            "Hasil pembalikan dari 'saya' adalah 'ayas'\n"
          ]
        }
      ]
    },
    {
      "cell_type": "code",
      "source": [
        "def gini(n,y):\n",
        "  return 1-(n/(n+y))**2-(y/(n+y))**2\n",
        "\n",
        "n = int(input(\"masukan angka: \"))\n",
        "y = int(input(\"masukan angka: \"))\n",
        "h=gini(n,y)\n",
        "print(h)"
      ],
      "metadata": {
        "id": "0c6wRiDuVC7j",
        "colab": {
          "base_uri": "https://localhost:8080/"
        },
        "outputId": "083d03d9-26fd-4d22-ab41-49a6e2761b41"
      },
      "execution_count": null,
      "outputs": [
        {
          "output_type": "stream",
          "name": "stdout",
          "text": [
            "masukan angka: 9\n",
            "masukan angka: 5\n",
            "0.4591836734693877\n"
          ]
        }
      ]
    },
    {
      "cell_type": "code",
      "source": [
        "import math"
      ],
      "metadata": {
        "id": "bJ8IZBaHGALs"
      },
      "execution_count": 11,
      "outputs": []
    },
    {
      "cell_type": "code",
      "source": [
        "def entropy(n, y):\n",
        "  return -((n/(n+y))*math.log2(n/(n+y))+(y/(n+y))*math.log2(y/(n+y)))\n",
        "\n",
        "n = int(input(\"masukan angka: \"))\n",
        "y = int(input(\"masukan angka: \"))\n",
        "h=entropy(n,y)\n",
        "print(h)"
      ],
      "metadata": {
        "colab": {
          "base_uri": "https://localhost:8080/"
        },
        "id": "VXev00LGUzjI",
        "outputId": "18dc4bed-9f84-4922-8386-7234d7bbd696"
      },
      "execution_count": 19,
      "outputs": [
        {
          "output_type": "stream",
          "name": "stdout",
          "text": [
            "masukan angka: 5\n",
            "masukan angka: 9\n",
            "0.9402859586706311\n"
          ]
        }
      ]
    },
    {
      "cell_type": "code",
      "source": [
        "def claserror(n, y):\n",
        "  if n >= y:\n",
        "    return 1-(n/(n+y))\n",
        "  else:\n",
        "    return 1-(y/(n+y))\n",
        "\n",
        "\n",
        "n = int(input(\"masukan angka: \"))\n",
        "y = int(input(\"masukan angka: \"))\n",
        "h=claserror(n,y)\n",
        "print(h)"
      ],
      "metadata": {
        "colab": {
          "base_uri": "https://localhost:8080/"
        },
        "id": "SNB6p80VXyqH",
        "outputId": "3f62a438-fc78-4ec7-a6a0-33366fd9fb4e"
      },
      "execution_count": 32,
      "outputs": [
        {
          "output_type": "stream",
          "name": "stdout",
          "text": [
            "masukan angka: 9\n",
            "masukan angka: 5\n",
            "0.3571428571428571\n"
          ]
        }
      ]
    }
  ]
}